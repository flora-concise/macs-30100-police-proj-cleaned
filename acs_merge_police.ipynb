{
 "cells": [
  {
   "cell_type": "code",
   "execution_count": 2,
   "metadata": {},
   "outputs": [],
   "source": [
    "import pandas as pd\n",
    "import geopandas as gpd\n",
    "import numpy as np\n",
    "from preprocess import clean_police_dataset\n",
    "import shapely\n",
    "from shapely.geometry import point"
   ]
  },
  {
   "cell_type": "code",
   "execution_count": 5,
   "metadata": {},
   "outputs": [],
   "source": [
    "def tract_merger(pol_filepath, shapefile_path):\n",
    "    ''' \n",
    "    takes in the police homicide filepath and the census tract shapefile path\n",
    "    and merges them together for that particular state\n",
    "\n",
    "    pol_filepath: (str) file path for the police homicide csv\n",
    "    shapefile_path: (str) file path for the census tract polygons shapefile\n",
    "\n",
    "    returns:\n",
    "    geo_joined_df: (GeoPandas Dataframe) a geopandas dataframe\n",
    "    '''\n",
    "    gdf = gpd.read_file(shapefile_path)\n",
    "    pol_df = clean_police_dataset(pol_filepath)\n",
    "    pol_df['geometry'] = gpd.points_from_xy(pol_df['longitude'], pol_df['latitude'])\n",
    "    pol_gdf = gpd.GeoDataFrame(pol_df, geometry='geometry', crs=\"EPSG:4326\")\n",
    "    geo_joined_df = gpd.sjoin(gdf.to_crs(crs='EPSG:26916'), pol_gdf.to_crs(crs='EPSG:26916'))\n",
    "    geo_joined_df = geo_joined_df[['GEOIDFQ','name', 'age', 'gender', 'race',\n",
    "       'date', 'street_address', 'city', 'state', 'zip', 'county',\n",
    "       'agency_responsible', 'ori', 'cause_of_death', 'circumstances',\n",
    "       'disposition_official', 'officer_charged', 'news_urls',\n",
    "       'signs_of_mental_illness', 'allegedly_armed', 'wapo_armed',\n",
    "       'wapo_threat_level', 'wapo_flee', 'geography', 'encounter_type',\n",
    "       'initial_reason', 'call_for_service', 'tract',\n",
    "       'hhincome_median_census_tract', 'latitude', 'longitude',\n",
    "       'pop_total_census_tract', 'pop_white_census_tract',\n",
    "       'pop_black_census_tract', 'pop_native_american_census_tract',\n",
    "       'pop_asian_census_tract', 'pop_pacific_islander_census_tract',\n",
    "       'pop_other_multiple_census_tract', 'pop_hispanic_census_tract',\n",
    "       'lat_long', 'month', 'day', 'year']]\n",
    "    # renaming GEOIDFQ to GEO_ID so we can merge with ACS later\n",
    "    geo_joined_df.rename(columns={'GEOIDFQ':'GEO_ID'})\n",
    "    # correcting year column to dtype int64\n",
    "    geo_joined_df['year'] = geo_joined_df['year'].astype(int)\n",
    "    # correcting zip column to dtype int64\n",
    "    geo_joined_df['zip'] = geo_joined_df.apply(\n",
    "    lambda x: int(x.zip.strip()), axis=1)\n",
    "    \n",
    "\n",
    "    return geo_joined_df"
   ]
  },
  {
   "cell_type": "code",
   "execution_count": null,
   "metadata": {},
   "outputs": [],
   "source": [
    "def booleaner(obj, list_like):\n",
    "    ''' \n",
    "    returns 1 if obj is found in list_like, else returns zero\n",
    "    obj: (anything)\n",
    "    list_like: (listlike)\n",
    "    '''\n",
    "    if obj in list_like:\n",
    "        return 1\n",
    "    else:\n",
    "        return 0"
   ]
  },
  {
   "cell_type": "code",
   "execution_count": 94,
   "metadata": {},
   "outputs": [],
   "source": [
    "def attr_merger(geo_joined_df, census_file_path):\n",
    "    ''' \n",
    "    takes a geo_df, census_file_path, and year and merges them all together\n",
    "    geo_joined_df: (GeoPandasDataFrame) a sjoin of a state's .shp shapefile and the original police homicide csv\n",
    "        has column 'GEOIDFQ' renamed to 'GEO_ID' for merging;\n",
    "    census_file_path: file path for census tract demographic information, should be csv, year = 2013\n",
    "    \n",
    "    returns:\n",
    "        df: a pd DataFrame containing census demographic data and a column that contains boolean val for pol homicide\n",
    "    '''\n",
    "    df = pd.read_csv(census_file_path)\n",
    "    # dropping row index zero because it contains column name information and not data\n",
    "    df = df.drop(index=0, axis=0)\n",
    "\n",
    "    # converting all possible columns to float for later regression/classification analysis\n",
    "    for col in df.columns:\n",
    "        try:\n",
    "            df[col] = df[col].astype(float)\n",
    "        except:\n",
    "            continue\n",
    "        \n",
    "\tdf['target'] = df.apply(\n",
    "\t\tlambda x: booleaner(x['GEO_ID'], geo_joined_df['GEO_ID']),\n",
    "        axis=1\n",
    "\t)\n",
    "\n",
    "    # performing merge on the 'GEO_ID' column with the sjoined tract polygon/homicide df\n",
    "    return df\n"
   ]
  }
 ],
 "metadata": {
  "kernelspec": {
   "display_name": "Python 3 (ipykernel)",
   "language": "python",
   "name": "python3"
  },
  "language_info": {
   "codemirror_mode": {
    "name": "ipython",
    "version": 3
   },
   "file_extension": ".py",
   "mimetype": "text/x-python",
   "name": "python",
   "nbconvert_exporter": "python",
   "pygments_lexer": "ipython3",
   "version": "3.12.8"
  }
 },
 "nbformat": 4,
 "nbformat_minor": 2
}
