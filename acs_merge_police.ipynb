{
 "cells": [
  {
   "cell_type": "code",
   "execution_count": 2,
   "metadata": {},
   "outputs": [],
   "source": [
    "import pandas as pd\n",
    "import geopandas as gpd\n",
    "import numpy as np\n",
    "from preprocess import clean_police_dataset\n",
    "import shapely\n",
    "from shapely.geometry import point\n",
    "\n",
    "# Anita Sun"
   ]
  },
  {
   "cell_type": "code",
   "execution_count": 17,
   "metadata": {},
   "outputs": [],
   "source": [
    "def tract_merger(pol_filepath, shapefile_path):\n",
    "    ''' \n",
    "    takes in the police homicide filepath and the census tract shapefile path\n",
    "    and merges them together for that particular state\n",
    "\n",
    "    pol_filepath: (str) file path for the police homicide csv\n",
    "    shapefile_path: (str) file path for the census tract polygons shapefile\n",
    "\n",
    "    returns:\n",
    "    geo_joined_df: (GeoPandas Dataframe) a geopandas dataframe\n",
    "    '''\n",
    "    gdf = gpd.read_file(shapefile_path)\n",
    "    pol_df = clean_police_dataset(pol_filepath)\n",
    "    pol_df['geometry'] = gpd.points_from_xy(pol_df['longitude'], pol_df['latitude'])\n",
    "    pol_gdf = gpd.GeoDataFrame(pol_df, geometry='geometry', crs=\"EPSG:4326\")\n",
    "    geo_joined_df = gpd.sjoin(gdf.to_crs(crs='EPSG:26916'), pol_gdf.to_crs(crs='EPSG:26916'))\n",
    "    geo_joined_df = geo_joined_df[['GEOIDFQ','name', 'age', 'gender', 'race',\n",
    "       'date', 'street_address', 'city', 'state', 'zip', 'county',\n",
    "       'agency_responsible', 'ori', 'cause_of_death', 'circumstances',\n",
    "       'disposition_official', 'officer_charged', 'news_urls',\n",
    "       'signs_of_mental_illness', 'allegedly_armed', 'wapo_armed',\n",
    "       'wapo_threat_level', 'wapo_flee', 'geography', 'encounter_type',\n",
    "       'initial_reason', 'call_for_service', 'tract',\n",
    "       'hhincome_median_census_tract', 'latitude', 'longitude',\n",
    "       'pop_total_census_tract', 'pop_white_census_tract',\n",
    "       'pop_black_census_tract', 'pop_native_american_census_tract',\n",
    "       'pop_asian_census_tract', 'pop_pacific_islander_census_tract',\n",
    "       'pop_other_multiple_census_tract', 'pop_hispanic_census_tract',\n",
    "       'lat_long', 'month', 'day', 'year']]\n",
    "    # renaming GEOIDFQ to GEO_ID so we can merge with ACS later\n",
    "    geo_joined_df.rename(columns={'GEOIDFQ':'GEO_ID'}, inplace=True)\n",
    "    # correcting year column to dtype int64\n",
    "    geo_joined_df['year'] = geo_joined_df['year'].astype(int)\n",
    "    # correcting zip column to dtype int64    \n",
    "\n",
    "    return geo_joined_df"
   ]
  },
  {
   "cell_type": "code",
   "execution_count": 15,
   "metadata": {},
   "outputs": [],
   "source": [
    "def booleaner(obj, list_like):\n",
    "    ''' \n",
    "    returns 1 if obj is found in list_like, else returns zero\n",
    "    obj: (anything)\n",
    "    list_like: (listlike)\n",
    "    '''\n",
    "    if obj in list_like:\n",
    "        return 1\n",
    "    else:\n",
    "        return 0"
   ]
  },
  {
   "cell_type": "code",
   "execution_count": 13,
   "metadata": {},
   "outputs": [],
   "source": [
    "def attr_merger(geo_joined_df, census_file_path, county):\n",
    "    ''' \n",
    "    takes a geo_df, census_file_path, and year and merges them all together\n",
    "    geo_joined_df: (GeoPandasDataFrame) a sjoin of a state's .shp shapefile and the original police homicide csv\n",
    "        has column 'GEOIDFQ' renamed to 'GEO_ID' for merging;\n",
    "    census_file_path: file path for census tract demographic information, should be csv, year = 2013\n",
    "    county: (str) county in question\n",
    "    \n",
    "    returns:\n",
    "        df: a pd DataFrame containing census demographic data and a column that contains boolean val for pol homicide\n",
    "    '''\n",
    "    df = pd.read_csv(census_file_path)\n",
    "    # dropping row index zero because it contains column name information and not data\n",
    "    df = df.drop(index=0, axis=0)\n",
    "\n",
    "    # converting all possible columns to float for later regression/classification analysis\n",
    "    for col in df.columns:\n",
    "        try:\n",
    "            df[col] = df[col].astype(float)\n",
    "        except:\n",
    "            continue\n",
    "        \n",
    "    df['in_county'] = df.NAME.str.extract(r'\\s*([\\w\\s]+ County)', expand=False)\n",
    "    \n",
    "    if type(county)==str:\n",
    "        df = df[df['in_county'] == county]\n",
    "    if type(county)==list:\n",
    "        df = df[df['in_county'].isin(county)]        \n",
    "    df['target'] = df.apply(\n",
    "\t\tlambda x: booleaner(x['GEO_ID'], geo_joined_df['GEO_ID'].values),\n",
    "        axis=1\n",
    "\t)\n",
    "\n",
    "    # performing merge on the 'GEO_ID' column with the sjoined tract polygon/homicide df\n",
    "    return df"
   ]
  },
  {
   "cell_type": "code",
   "execution_count": 19,
   "metadata": {},
   "outputs": [],
   "source": [
    "geo_ny = tract_merger('police_data.csv', 'new_york_shapefiles/tl_2023_36_tract.shp')\n",
    "geo_il = tract_merger('police_data.csv', 'illinois_shapefiles/tl_2023_17_tract.shp')\n",
    "geo_ca = tract_merger('police_data.csv', 'california_shapefiles/tl_2023_06_tract.shp')"
   ]
  },
  {
   "cell_type": "code",
   "execution_count": 20,
   "metadata": {},
   "outputs": [
    {
     "name": "stderr",
     "output_type": "stream",
     "text": [
      "/tmp/ipykernel_292988/1461020114.py:12: DtypeWarning: Columns (2,3,58,59,82,83,124,125,126,127,128,129,154,155,156,157,158,159,214,215,216,217,218,219,232,233,234,235,236,237,250,251,252,253,254,255,268,269,270,271,272,273,354,355,356,358,359,362,363,366,367,370,371,374,375,378,379,382,383,386,387,390,391,394,395,398,399,402,403,406,407,410,411,414,415,422,423,426,427,430,431,434,435,438,439,440,442,443,446,447,450,451,452,454,455,458,459,462,463,464,466,467,470,471,474,475,478,479,482,483,486,487,490,491,494,495,498,499,502,503,506,507,510,511,514,515,518,519,522,523,526,527,530,531,534,535,538,539,542,543,546,547,550,551,554,555,558,559,562,563,566,567,570,571,574,575,578,579,582,583,584,586,587,590,591,594,595,598,599,602,603,606,607,610,611,612,614,615,618,619,622,623,626,627,630,631,634,635,638,639,642,643,646,647,650,651,654,655,658,659,662,663,666,667,670,671,674,675) have mixed types. Specify dtype option on import or set low_memory=False.\n",
      "  df = pd.read_csv(census_file_path)\n",
      "/tmp/ipykernel_292988/1461020114.py:23: PerformanceWarning: DataFrame is highly fragmented.  This is usually the result of calling `frame.insert` many times, which has poor performance.  Consider joining all columns at once using pd.concat(axis=1) instead. To get a de-fragmented frame, use `newframe = frame.copy()`\n",
      "  df['in_county'] = df.NAME.str.extract(r'\\s*([\\w\\s]+ County)', expand=False)\n",
      "/tmp/ipykernel_292988/1461020114.py:29: PerformanceWarning: DataFrame is highly fragmented.  This is usually the result of calling `frame.insert` many times, which has poor performance.  Consider joining all columns at once using pd.concat(axis=1) instead. To get a de-fragmented frame, use `newframe = frame.copy()`\n",
      "  df['target'] = df.apply(\n",
      "/tmp/ipykernel_292988/1461020114.py:12: DtypeWarning: Columns (2,3,58,59,82,83,124,125,126,127,128,129,154,155,156,157,158,159,214,215,216,217,218,219,232,233,234,235,236,237,250,251,252,253,254,255,268,269,270,271,272,273,354,355,356,358,359,362,363,366,367,370,371,374,375,378,379,382,383,386,387,390,391,394,395,398,399,402,403,406,407,410,411,414,415,422,423,426,427,430,431,434,435,438,439,440,442,443,446,447,450,451,452,454,455,458,459,462,463,464,466,467,470,471,474,475,478,479,482,483,486,487,490,491,494,495,498,499,502,503,506,507,510,511,514,515,518,519,522,523,526,527,530,531,534,535,538,539,542,543,546,547,550,551,554,555,558,559,562,563,566,567,570,571,574,575,578,579,582,583,584,586,587,590,591,594,595,598,599,602,603,606,607,610,611,612,614,615,618,619,622,623,626,627,630,631,634,635,638,639,642,643,646,647,650,651,654,655,658,659,662,663,666,667,670,671,674,675) have mixed types. Specify dtype option on import or set low_memory=False.\n",
      "  df = pd.read_csv(census_file_path)\n",
      "/tmp/ipykernel_292988/1461020114.py:23: PerformanceWarning: DataFrame is highly fragmented.  This is usually the result of calling `frame.insert` many times, which has poor performance.  Consider joining all columns at once using pd.concat(axis=1) instead. To get a de-fragmented frame, use `newframe = frame.copy()`\n",
      "  df['in_county'] = df.NAME.str.extract(r'\\s*([\\w\\s]+ County)', expand=False)\n",
      "/tmp/ipykernel_292988/1461020114.py:29: PerformanceWarning: DataFrame is highly fragmented.  This is usually the result of calling `frame.insert` many times, which has poor performance.  Consider joining all columns at once using pd.concat(axis=1) instead. To get a de-fragmented frame, use `newframe = frame.copy()`\n",
      "  df['target'] = df.apply(\n",
      "/tmp/ipykernel_292988/1461020114.py:12: DtypeWarning: Columns (3,4,5,6,7,8,9,10,15,16,21,22,27,28,33,34,35,36,37,38,39,40,41,42,45,46,47,48,51,52,53,54,57,58,59,60,63,64,65,66,69,70,71,72,75,76,77,78,81,82,83,84,87,88,89,90,93,94,95,96,97,98,99,100,101,102,105,106,107,108,111,112,113,114,115,116,117,118,123,124,129,130,131,132,133,134,135,136,137,138,141,142,143,144,147,148,149,150,151,152,189,190,191,192,225,233,234,289,290,313,314,355,356,357,359,360,361,362,363,364,365,366,367,368,369,370,371,372,373,374,375,376,377,378,379,380,381,382,383,384,385,386,387,388,389,390,391,392,393,394,395,396,397,398,399,400,401,402,403,404,405,406,407,408,409,410,411,412,413,414,415,416,417,418,419,420,423,424,425,426,427,428,429,430,431,432,433,434,435,436,437,438,439,440,441,443,444,445,446,447,448,449,450,451,452,453,455,456,459,460,463,464,465,467,468,469,470,471,472,473,474,475,476,477,478,479,480,481,482,483,484,485,486,487,488,489,490,491,492,493,494,495,496,497,498,499,500,501,502,503,504,505,506,507,508,509,510,511,512,513,514,515,516,517,518,519,520,521,522,523,524,525,526,527,528,529,530,531,532,533,534,535,536,537,538,539,540,541,542,543,544,545,546,547,548,549,550,551,552,553,554,555,556,557,558,559,560,561,562,563,564,565,566,567,568,569,570,571,572,573,574,575,576,577,578,579,580,581,582,583,584,585,587,588,589,590,591,592,593,594,595,596,597,598,599,600,601,602,603,604,605,606,607,608,609,610,611,612,613,615,616,617,618,619,620,621,622,623,624,625,626,627,628,629,630,631,632,633,634,635,636,637,638,639,640,641,642,643,644,645,646,647,648,649,650,651,652,653,654,655,656,657,658,659,660,661,662,663,664,665,666,667,668,669,670,671,672,673,674,675,676) have mixed types. Specify dtype option on import or set low_memory=False.\n",
      "  df = pd.read_csv(census_file_path)\n",
      "/tmp/ipykernel_292988/1461020114.py:23: PerformanceWarning: DataFrame is highly fragmented.  This is usually the result of calling `frame.insert` many times, which has poor performance.  Consider joining all columns at once using pd.concat(axis=1) instead. To get a de-fragmented frame, use `newframe = frame.copy()`\n",
      "  df['in_county'] = df.NAME.str.extract(r'\\s*([\\w\\s]+ County)', expand=False)\n",
      "/tmp/ipykernel_292988/1461020114.py:29: PerformanceWarning: DataFrame is highly fragmented.  This is usually the result of calling `frame.insert` many times, which has poor performance.  Consider joining all columns at once using pd.concat(axis=1) instead. To get a de-fragmented frame, use `newframe = frame.copy()`\n",
      "  df['target'] = df.apply(\n"
     ]
    }
   ],
   "source": [
    "df_ny = attr_merger(geo_ny, 'census_2013/ny_2013.csv', county=['Bronx County', 'Kings County', 'New York County', 'Queens County', 'Richmond County'])\n",
    "df_il = attr_merger(geo_il, 'census_2013/il_2013.csv', county='Cook County')\n",
    "df_ca = attr_merger(geo_ca, 'census_2013/ca_2013.csv', county='Los Angeles County')"
   ]
  },
  {
   "cell_type": "code",
   "execution_count": 26,
   "metadata": {},
   "outputs": [],
   "source": [
    "df_ny.to_csv('final_merge_ny.csv')\n",
    "df_ca.to_csv('final_merge_ca.csv')\n",
    "df_il.to_csv('final_merge_il.csv')"
   ]
  }
 ],
 "metadata": {
  "kernelspec": {
   "display_name": "Python 3 (ipykernel)",
   "language": "python",
   "name": "python3"
  },
  "language_info": {
   "codemirror_mode": {
    "name": "ipython",
    "version": 3
   },
   "file_extension": ".py",
   "mimetype": "text/x-python",
   "name": "python",
   "nbconvert_exporter": "python",
   "pygments_lexer": "ipython3",
   "version": "3.12.8"
  }
 },
 "nbformat": 4,
 "nbformat_minor": 2
}
